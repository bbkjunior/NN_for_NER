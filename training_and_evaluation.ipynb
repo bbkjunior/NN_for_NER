{
 "cells": [
  {
   "cell_type": "code",
   "execution_count": null,
   "metadata": {},
   "outputs": [],
   "source": [
    "# !wget http://nlp.stanford.edu/data/glove.6B.zip\n",
    "# !unzip glove.6B.zip\n",
    "# !cp glove.6B.100d.txt ./data/"
   ]
  },
  {
   "cell_type": "code",
   "execution_count": 2,
   "metadata": {},
   "outputs": [],
   "source": [
    "import collections\n",
    "import numpy as np\n",
    "import json\n",
    "\n",
    "import torch\n",
    "from torch import nn\n",
    "import torch.nn.functional as F\n",
    "\n",
    "from tqdm import tqdm\n",
    "from sklearn.metrics import accuracy_score, f1_score, confusion_matrix, classification_report\n",
    "\n",
    "import matplotlib.pyplot as plt\n",
    "import seaborn as sns\n",
    "\n",
    "from prepocessing import create_loader\n",
    "from load_pretrained import load_embeddings"
   ]
  },
  {
   "cell_type": "code",
   "execution_count": 3,
   "metadata": {},
   "outputs": [],
   "source": [
    "device = torch.device('cuda') if torch.cuda.is_available() else torch.device('cpu')"
   ]
  },
  {
   "cell_type": "code",
   "execution_count": 4,
   "metadata": {},
   "outputs": [
    {
     "name": "stdout",
     "output_type": "stream",
     "text": [
      "Found 17493 unique words (203621 in total)\n",
      "Found 75 unique characters\n",
      "Found 10 unique named entity tags\n"
     ]
    }
   ],
   "source": [
    "train_loader, valid_loader, test_loader, word_to_id, char_to_id, tag_to_id = create_loader(batch_size=64)"
   ]
  },
  {
   "cell_type": "code",
   "execution_count": 12,
   "metadata": {},
   "outputs": [
    {
     "name": "stdout",
     "output_type": "stream",
     "text": [
      "LOADING PREATRAINED ...\n",
      "Loaded 400000 pretrained embeddings.\n"
     ]
    }
   ],
   "source": [
    "embeddings = load_embeddings(word_to_id)"
   ]
  },
  {
   "cell_type": "code",
   "execution_count": 17,
   "metadata": {},
   "outputs": [],
   "source": [
    "embeddings_dim = embeddings.shape[-1]\n",
    "embeddings[0] = np.zeros(embeddings_dim)\n",
    "embeddings = torch.tensor(embeddings).float()"
   ]
  },
  {
   "cell_type": "code",
   "execution_count": 91,
   "metadata": {},
   "outputs": [],
   "source": [
    "class CNNNERModel(nn.Module):\n",
    "    \n",
    "    def __init__(self, char_vocab_size, n_labels, word_embeddings, char_kernels_quantity = 3,\n",
    "                 embedding_dim=64, model_dim=128, word_kernel=3,\n",
    "                 word_cnn_layers_quantity=4, padding_idx=0):\n",
    "        \n",
    "        super().__init__()\n",
    "        \n",
    "        self.word_kernel = word_kernel\n",
    "        self.embedding_dim = char_kernels_quantity * embedding_dim + word_embeddings.size(-1)#final size of coincatenated embeddings\n",
    "        self.word_cnn_layers_quantity = word_cnn_layers_quantity\n",
    "        \n",
    "        self.char_embeddings = nn.Embedding(num_embeddings=char_vocab_size, \n",
    "                                            embedding_dim=embedding_dim, \n",
    "                                            padding_idx=padding_idx)\n",
    "        \n",
    "        self.word_embeddings = nn.Embedding.from_pretrained(word_embeddings, \n",
    "                                                            padding_idx=padding_idx,\n",
    "                                                            freeze=False)\n",
    "        self.word_dropout = nn.Dropout2d()\n",
    "       \n",
    "        self.char_cnn_3 = nn.Conv2d(in_channels=embedding_dim,\n",
    "                                                  out_channels=embedding_dim,\n",
    "                                                  kernel_size=(1, 3))\n",
    "        self.char_cnn_4 = nn.Conv2d(in_channels=embedding_dim,\n",
    "                                                  out_channels=embedding_dim,\n",
    "                                                  kernel_size=(1, 4))\n",
    "        self.char_cnn_5 = nn.Conv2d(in_channels=embedding_dim,\n",
    "                                                  out_channels=embedding_dim,\n",
    "                                                  kernel_size=(1, 5))\n",
    "        \n",
    "        self.embedding_projection = nn.Linear(in_features=self.embedding_dim, out_features=model_dim)\n",
    "        \n",
    "        self.word_cnn_1 = nn.Conv1d(in_channels=model_dim,\n",
    "                                                  out_channels=model_dim,\n",
    "                                                  kernel_size=self.word_kernel)\n",
    "        self.word_cnn_2 = nn.Conv1d(in_channels=model_dim,\n",
    "                                                  out_channels=model_dim,\n",
    "                                                  kernel_size=self.word_kernel)\n",
    "        self.word_cnn_3 = nn.Conv1d(in_channels=model_dim,\n",
    "                                                  out_channels=model_dim,\n",
    "                                                  kernel_size=self.word_kernel)\n",
    "        self.word_cnn_4 = nn.Conv1d(in_channels=model_dim,\n",
    "                                                  out_channels=model_dim,\n",
    "                                                  kernel_size=self.word_kernel)\n",
    "        \n",
    "        self.embeddings2tags = nn.Linear(in_features=model_dim * 2, out_features=n_labels)\n",
    "        \n",
    "    def forward(self, x_words, x_chars):\n",
    "        x_chars = F.pad(x_chars, (0, 4))#pad 4 zeros to top of char dimension\n",
    "        \n",
    "        x_chars_transposed = x_chars.transpose(1, 2)\n",
    "            \n",
    "        pad_char = self.word_cnn_layers_quantity * (self.word_kernel - 1)#padding values for word kernels\n",
    "            \n",
    "        x_chars = F.pad(x_chars_transposed, (0, pad_char))#pad for word kernels\n",
    "            \n",
    "        x_chars = x_chars.transpose(1, 2)#back to original dimension sequence\n",
    "            \n",
    "        x_chars = self.char_embeddings(x_chars)\n",
    "        x_chars= x_chars.permute(0, 3, 1, 2)#reshape char embeddings for cnn\n",
    "            \n",
    "        \n",
    "        x_char_cnn_3 = torch.relu(self.char_cnn_3(x_chars)).max(-1)[0]\n",
    "            \n",
    "        x_char_cnn_4 = torch.relu(self.char_cnn_4(x_chars)).max(-1)[0]\n",
    "            \n",
    "        x_char_cnn_5 = torch.relu(self.char_cnn_5(x_chars)).max(-1)[0]\n",
    "            \n",
    "        x_chars = torch.cat([x_char_cnn_3,x_char_cnn_4,x_char_cnn_5],dim=1)#cocnatenate results of all char embeddings cnn layers\n",
    "    \n",
    "        word_pad = self.word_cnn_layers_quantity * (self.word_kernel - 1)#pad word dimension\n",
    "            \n",
    "        x_words = F.pad(x_words, (0, word_pad))\n",
    "            \n",
    "        x_words = self.word_embeddings(x_words)\n",
    "            \n",
    "        x_words = self.word_dropout(x_words)\n",
    "        x_words = x_words.transpose(1, 2)\n",
    "            \n",
    "        x = torch.cat((x_chars, x_words), dim=1)\n",
    "        x = self.embedding_projection(x.transpose(1, 2)).transpose(1, 2)\n",
    "            \n",
    "        residual = x #original word embeddings state for further residual concatenation\n",
    "        \n",
    "        x = torch.relu(self.word_cnn_1(x))\n",
    "        x = torch.relu(self.word_cnn_2(x))\n",
    "        x = torch.relu(self.word_cnn_3(x))\n",
    "        x = torch.relu(self.word_cnn_4(x))\n",
    "        \n",
    "        x = torch.cat((x, residual[:, :, :x.size(-1)]), dim=1)#concat with original word embed state\n",
    "        \n",
    "            \n",
    "        x = self.embeddings2tags(x.transpose(1, 2))#predict tags\n",
    "        \n",
    "        return x\n",
    "        \n",
    "model = CNNNERModel(char_vocab_size=len(char_to_id), n_labels=len(tag_to_id), word_embeddings=embeddings)\n",
    "pad_index=0\n",
    "ignore_tag_id=1\n",
    "for words, chars, tags in train_loader:\n",
    "        \n",
    "    char_pad_mask = chars != pad_index\n",
    "\n",
    "    word_max = char_pad_mask.sum(dim=1).max()\n",
    "    char_max = char_pad_mask.sum(dim=-1).max()\n",
    "\n",
    "    words = words[:, :word_max]\n",
    "    chars = chars[:, :word_max, :char_max]\n",
    "    tags = tags[:, :word_max]\n",
    "\n",
    "    words = words.to(device)\n",
    "    chars = chars.to(device)\n",
    "    tags = tags.to(device)\n",
    "\n",
    "#     with torch.set_grad_enabled(is_train):\n",
    "    prediction = model(words, chars)\n",
    "    break\n",
    "    "
   ]
  },
  {
   "cell_type": "code",
   "execution_count": 63,
   "metadata": {},
   "outputs": [],
   "source": [
    "criterion = nn.CrossEntropyLoss(ignore_index=0)\n",
    "optimizer = torch.optim.Adam(params=model.parameters(), lr=0.001)"
   ]
  },
  {
   "cell_type": "code",
   "execution_count": 64,
   "metadata": {},
   "outputs": [],
   "source": [
    "def loop(loader, is_train=True, pad_index=0, ignore_tag_id=1):\n",
    "\n",
    "    if is_train:\n",
    "        model.train()\n",
    "    else:\n",
    "        model.eval()\n",
    "\n",
    "    losses = list()\n",
    "\n",
    "    all_predictions = list()\n",
    "    all_tags = list()\n",
    "\n",
    "    progress_bar = tqdm(total=len(loader))\n",
    "\n",
    "    for words, chars, tags in loader:\n",
    "        \n",
    "        char_pad_mask = chars != pad_index\n",
    "\n",
    "        word_max = char_pad_mask.sum(dim=1).max()\n",
    "        char_max = char_pad_mask.sum(dim=-1).max()\n",
    "        \n",
    "        words = words[:, :word_max]\n",
    "        chars = chars[:, :word_max, :char_max]\n",
    "        tags = tags[:, :word_max]\n",
    "\n",
    "        words = words.to(device)\n",
    "        chars = chars.to(device)\n",
    "        tags = tags.to(device)\n",
    "\n",
    "        with torch.set_grad_enabled(is_train):\n",
    "            prediction = model(words, chars)\n",
    "\n",
    "        loss = criterion(prediction.reshape(-1, prediction.size(-1)), tags.reshape(-1))#!\n",
    "        \n",
    "        tags = tags.cpu()\n",
    "\n",
    "        if is_train:\n",
    "            optimizer.zero_grad()\n",
    "            loss.backward()\n",
    "            optimizer.step()\n",
    "\n",
    "        predicted_tags = prediction.argmax(-1).cpu()\n",
    "        \n",
    "        mask = (words.cpu() != pad_index) & (tags != ignore_tag_id)\n",
    "        \n",
    "        predicted_tags = predicted_tags.reshape(-1)[mask.reshape(-1)]\n",
    "        correct_tags = tags.reshape(-1)[mask.reshape(-1)]\n",
    "\n",
    "        all_predictions.extend(predicted_tags.tolist())\n",
    "        all_tags.extend(correct_tags.tolist())\n",
    "\n",
    "        losses.append(loss.item())\n",
    "\n",
    "        progress_bar.update()\n",
    "        progress_bar.set_postfix(loss=np.mean(losses[-50:]))\n",
    "\n",
    "    progress_bar.close()\n",
    "\n",
    "    return losses, all_predictions, all_tags"
   ]
  },
  {
   "cell_type": "code",
   "execution_count": 65,
   "metadata": {},
   "outputs": [],
   "source": [
    "def get_metrics(tags, predictions):\n",
    "    \n",
    "    macro_f1 = f1_score(tags, predictions, average='macro')\n",
    "    micro_f1 = f1_score(tags, predictions, average='micro')\n",
    "    accuracy = accuracy_score(tags, predictions)\n",
    "    \n",
    "    return macro_f1, micro_f1, accuracy"
   ]
  },
  {
   "cell_type": "code",
   "execution_count": 66,
   "metadata": {},
   "outputs": [],
   "source": [
    "def train(n_epochs=25, early_stopping_patience=1, save_best=True):\n",
    "    \n",
    "    all_train_losses = list()\n",
    "    all_valid_losses = list()\n",
    "    \n",
    "    all_train_macro_f1 = list()\n",
    "    all_train_micro_f1 = list()\n",
    "    all_train_accuracy = list()\n",
    "    \n",
    "    all_valid_macro_f1 = list()\n",
    "    all_valid_micro_f1 = list()\n",
    "    all_valid_accuracy = list()\n",
    "    \n",
    "    best_valid_loss = 10000.\n",
    "    bad_epochs = 0\n",
    "    \n",
    "    for epoch in range(n_epochs):\n",
    "    \n",
    "        print(f'Epoch {epoch+1}')\n",
    "        train_losses, train_predictions, train_tags = loop(train_loader, is_train=True)\n",
    "        train_macro_f1, train_micro_f1, train_accuracy = get_metrics(train_tags, train_predictions)\n",
    "        print(f'Train Loss: {np.mean(train_losses):.3f}')\n",
    "        print(f'Train Macro F1 {train_macro_f1:.2f}')\n",
    "        print(f'Train Micro F1 {train_micro_f1:.2f}')\n",
    "        print(f'Train Accuracy F1 {train_accuracy:.2f}')\n",
    "        \n",
    "        valid_losses, valid_predictions, valid_tags = loop(valid_loader, is_train=False)\n",
    "        valid_macro_f1, valid_micro_f1, valid_accuracy = get_metrics(valid_tags, valid_predictions)\n",
    "        print(f'Validation Loss: {np.mean(valid_losses):.3f}')\n",
    "        print(f'Validation Macro F1 {valid_macro_f1:.2f}')\n",
    "        print(f'Validation Micro F1 {valid_micro_f1:.2f}')\n",
    "        print(f'Validation Accuracy F1 {valid_accuracy:.2f}')\n",
    "        \n",
    "        mean_valid_loss = np.mean(valid_losses)\n",
    "        \n",
    "        if mean_valid_loss < best_valid_loss:\n",
    "            \n",
    "            best_valid_loss = mean_valid_loss\n",
    "            \n",
    "            if save_best:\n",
    "                torch.save(model.state_dict(), 'best_model.pth')\n",
    "                torch.save(optimizer.state_dict(), 'best_optimizer.pth')\n",
    "            \n",
    "            bad_epochs = 0\n",
    "        else:\n",
    "            bad_epochs += 1\n",
    "            \n",
    "        if bad_epochs >= early_stopping_patience:\n",
    "            break\n",
    "        \n",
    "        all_train_losses.extend(train_losses)\n",
    "        all_valid_losses.extend(valid_losses)\n",
    "        \n",
    "        all_train_macro_f1.append(train_macro_f1)\n",
    "        all_train_micro_f1.append(train_micro_f1)\n",
    "        all_train_accuracy.append(train_accuracy)\n",
    "        \n",
    "        all_valid_macro_f1.append(valid_macro_f1)\n",
    "        all_valid_micro_f1.append(valid_micro_f1)\n",
    "        all_valid_accuracy.append(valid_accuracy)\n",
    "        \n",
    "    test_losses, test_predictions, test_tags = loop(test_loader, is_train=False)\n",
    "    test_macro_f1, test_micro_f1, test_accuracy = get_metrics(test_tags, test_predictions)\n",
    "    print(f'Test Loss: {np.mean(test_losses):.3f}')\n",
    "    print(f'Test Macro F1 {test_macro_f1:.2f}')\n",
    "    print(f'Test Micro F1 {test_micro_f1:.2f}')\n",
    "    print(f'Test Accuracy F1 {test_accuracy:.2f}')\n",
    "    \n",
    "    result = {\n",
    "        'losses': {\n",
    "            'train': all_train_losses,\n",
    "            'valid': all_valid_losses,\n",
    "            'test': test_losses\n",
    "        },\n",
    "        'predictions': {\n",
    "            'train': train_predictions,\n",
    "            'valid': valid_predictions,\n",
    "            'test': test_predictions\n",
    "        },\n",
    "        'tags': {\n",
    "            'train': train_tags,\n",
    "            'valid': valid_tags,\n",
    "            'test': test_tags\n",
    "        },\n",
    "        'macro_f1': {\n",
    "            'train': all_train_macro_f1,\n",
    "            'valid': all_valid_macro_f1,\n",
    "            'test': test_macro_f1\n",
    "        },\n",
    "        'micro_f1': {\n",
    "            'train': all_train_micro_f1,\n",
    "            'valid': all_valid_micro_f1,\n",
    "            'test': test_micro_f1\n",
    "        },\n",
    "        'accuracy': {\n",
    "            'train': all_train_accuracy,\n",
    "            'valid': all_valid_accuracy,\n",
    "            'test': test_accuracy\n",
    "        }\n",
    "    }\n",
    "    \n",
    "    with open('train_progress.json', 'w') as f:\n",
    "        json.dump(result, f)\n",
    "    \n",
    "    return result"
   ]
  },
  {
   "cell_type": "code",
   "execution_count": 67,
   "metadata": {},
   "outputs": [
    {
     "name": "stderr",
     "output_type": "stream",
     "text": [
      "\r",
      "  0%|          | 0/220 [00:00<?, ?it/s]"
     ]
    },
    {
     "name": "stdout",
     "output_type": "stream",
     "text": [
      "Epoch 1\n"
     ]
    },
    {
     "name": "stderr",
     "output_type": "stream",
     "text": [
      "100%|██████████| 220/220 [02:09<00:00,  1.70it/s, loss=0.243]\n",
      "/Users/nbabakov/env/lib/python3.7/site-packages/sklearn/metrics/classification.py:1437: UndefinedMetricWarning: F-score is ill-defined and being set to 0.0 in labels with no predicted samples.\n",
      "  'precision', 'predicted', average, warn_for)\n",
      "/Users/nbabakov/env/lib/python3.7/site-packages/sklearn/metrics/classification.py:1439: UndefinedMetricWarning: F-score is ill-defined and being set to 0.0 in labels with no true samples.\n",
      "  'recall', 'true', average, warn_for)\n",
      "  0%|          | 0/54 [00:00<?, ?it/s]"
     ]
    },
    {
     "name": "stdout",
     "output_type": "stream",
     "text": [
      "Train Loss: 0.408\n",
      "Train Macro F1 0.18\n",
      "Train Micro F1 0.35\n",
      "Train Accuracy F1 0.35\n"
     ]
    },
    {
     "name": "stderr",
     "output_type": "stream",
     "text": [
      "100%|██████████| 54/54 [00:12<00:00,  4.24it/s, loss=0.229]\n",
      "  0%|          | 0/220 [00:00<?, ?it/s]"
     ]
    },
    {
     "name": "stdout",
     "output_type": "stream",
     "text": [
      "Validation Loss: 0.228\n",
      "Validation Macro F1 0.32\n",
      "Validation Micro F1 0.61\n",
      "Validation Accuracy F1 0.61\n",
      "Epoch 2\n"
     ]
    },
    {
     "name": "stderr",
     "output_type": "stream",
     "text": [
      "100%|██████████| 220/220 [02:12<00:00,  1.66it/s, loss=0.157]\n",
      "  0%|          | 0/54 [00:00<?, ?it/s]"
     ]
    },
    {
     "name": "stdout",
     "output_type": "stream",
     "text": [
      "Train Loss: 0.171\n",
      "Train Macro F1 0.36\n",
      "Train Micro F1 0.71\n",
      "Train Accuracy F1 0.71\n"
     ]
    },
    {
     "name": "stderr",
     "output_type": "stream",
     "text": [
      "100%|██████████| 54/54 [00:12<00:00,  4.49it/s, loss=0.191]\n",
      "  0%|          | 0/220 [00:00<?, ?it/s]"
     ]
    },
    {
     "name": "stdout",
     "output_type": "stream",
     "text": [
      "Validation Loss: 0.191\n",
      "Validation Macro F1 0.36\n",
      "Validation Micro F1 0.72\n",
      "Validation Accuracy F1 0.72\n",
      "Epoch 3\n"
     ]
    },
    {
     "name": "stderr",
     "output_type": "stream",
     "text": [
      "100%|██████████| 220/220 [02:11<00:00,  1.68it/s, loss=0.118]\n",
      "  0%|          | 0/54 [00:00<?, ?it/s]"
     ]
    },
    {
     "name": "stdout",
     "output_type": "stream",
     "text": [
      "Train Loss: 0.130\n",
      "Train Macro F1 0.40\n",
      "Train Micro F1 0.79\n",
      "Train Accuracy F1 0.79\n"
     ]
    },
    {
     "name": "stderr",
     "output_type": "stream",
     "text": [
      "100%|██████████| 54/54 [00:14<00:00,  3.74it/s, loss=0.185]\n",
      "  0%|          | 0/220 [00:00<?, ?it/s]"
     ]
    },
    {
     "name": "stdout",
     "output_type": "stream",
     "text": [
      "Validation Loss: 0.186\n",
      "Validation Macro F1 0.37\n",
      "Validation Micro F1 0.73\n",
      "Validation Accuracy F1 0.73\n",
      "Epoch 4\n"
     ]
    },
    {
     "name": "stderr",
     "output_type": "stream",
     "text": [
      "100%|██████████| 220/220 [02:14<00:00,  1.63it/s, loss=0.102] \n",
      "  0%|          | 0/54 [00:00<?, ?it/s]"
     ]
    },
    {
     "name": "stdout",
     "output_type": "stream",
     "text": [
      "Train Loss: 0.105\n",
      "Train Macro F1 0.42\n",
      "Train Micro F1 0.83\n",
      "Train Accuracy F1 0.83\n"
     ]
    },
    {
     "name": "stderr",
     "output_type": "stream",
     "text": [
      "100%|██████████| 54/54 [00:12<00:00,  4.33it/s, loss=0.175]\n",
      "  0%|          | 0/220 [00:00<?, ?it/s]"
     ]
    },
    {
     "name": "stdout",
     "output_type": "stream",
     "text": [
      "Validation Loss: 0.173\n",
      "Validation Macro F1 0.38\n",
      "Validation Micro F1 0.73\n",
      "Validation Accuracy F1 0.73\n",
      "Epoch 5\n"
     ]
    },
    {
     "name": "stderr",
     "output_type": "stream",
     "text": [
      "100%|██████████| 220/220 [02:16<00:00,  1.61it/s, loss=0.0788]\n",
      "  0%|          | 0/54 [00:00<?, ?it/s]"
     ]
    },
    {
     "name": "stdout",
     "output_type": "stream",
     "text": [
      "Train Loss: 0.090\n",
      "Train Macro F1 0.44\n",
      "Train Micro F1 0.86\n",
      "Train Accuracy F1 0.86\n"
     ]
    },
    {
     "name": "stderr",
     "output_type": "stream",
     "text": [
      "100%|██████████| 54/54 [00:12<00:00,  4.50it/s, loss=0.164]\n",
      "  0%|          | 0/220 [00:00<?, ?it/s]"
     ]
    },
    {
     "name": "stdout",
     "output_type": "stream",
     "text": [
      "Validation Loss: 0.164\n",
      "Validation Macro F1 0.40\n",
      "Validation Micro F1 0.78\n",
      "Validation Accuracy F1 0.78\n",
      "Epoch 6\n"
     ]
    },
    {
     "name": "stderr",
     "output_type": "stream",
     "text": [
      "100%|██████████| 220/220 [02:17<00:00,  1.61it/s, loss=0.0802]\n",
      "  0%|          | 0/54 [00:00<?, ?it/s]"
     ]
    },
    {
     "name": "stdout",
     "output_type": "stream",
     "text": [
      "Train Loss: 0.077\n",
      "Train Macro F1 0.48\n",
      "Train Micro F1 0.88\n",
      "Train Accuracy F1 0.88\n"
     ]
    },
    {
     "name": "stderr",
     "output_type": "stream",
     "text": [
      "100%|██████████| 54/54 [00:12<00:00,  4.23it/s, loss=0.175]\n",
      "  0%|          | 0/51 [00:00<?, ?it/s]"
     ]
    },
    {
     "name": "stdout",
     "output_type": "stream",
     "text": [
      "Validation Loss: 0.174\n",
      "Validation Macro F1 0.40\n",
      "Validation Micro F1 0.79\n",
      "Validation Accuracy F1 0.79\n"
     ]
    },
    {
     "name": "stderr",
     "output_type": "stream",
     "text": [
      "100%|██████████| 51/51 [00:12<00:00,  4.18it/s, loss=0.116]"
     ]
    },
    {
     "name": "stdout",
     "output_type": "stream",
     "text": [
      "Test Loss: 0.117\n",
      "Test Macro F1 0.56\n",
      "Test Micro F1 0.82\n",
      "Test Accuracy F1 0.82\n"
     ]
    },
    {
     "name": "stderr",
     "output_type": "stream",
     "text": [
      "\n"
     ]
    }
   ],
   "source": [
    "result = train()"
   ]
  },
  {
   "cell_type": "code",
   "execution_count": 68,
   "metadata": {},
   "outputs": [
    {
     "data": {
      "image/png": "[encoded data removed]",
      "text/plain": [
       "<Figure size 1152x720 with 1 Axes>"
      ]
     },
     "metadata": {
      "needs_background": "light"
     },
     "output_type": "display_data"
    }
   ],
   "source": [
    "plt.figure(figsize=(16, 10))\n",
    "plt.title('Train loss')\n",
    "plt.plot(result['losses']['train'])\n",
    "plt.grid()\n",
    "plt.xlabel('Iteration')\n",
    "plt.ylabel('Loss');"
   ]
  },
  {
   "cell_type": "code",
   "execution_count": 69,
   "metadata": {},
   "outputs": [
    {
     "data": {
      "image/png": "[encoded data removed]",
      "text/plain": [
       "<Figure size 1152x720 with 1 Axes>"
      ]
     },
     "metadata": {
      "needs_background": "light"
     },
     "output_type": "display_data"
    }
   ],
   "source": [
    "plt.figure(figsize=(16, 10))\n",
    "plt.title('Macro F1')\n",
    "epochs = np.arange(1, len(result['micro_f1']['valid']) + 1)\n",
    "plt.plot(epochs, result['macro_f1']['train'], label='Train')\n",
    "plt.plot(epochs, result['macro_f1']['valid'], label='Validation')\n",
    "plt.legend()\n",
    "plt.grid()\n",
    "plt.xlabel('Epoch')\n",
    "plt.ylabel('Metric Value');"
   ]
  },
  {
   "cell_type": "code",
   "execution_count": 70,
   "metadata": {},
   "outputs": [
    {
     "data": {
      "image/png": "[encoded data removed]",
      "text/plain": [
       "<Figure size 1152x720 with 1 Axes>"
      ]
     },
     "metadata": {
      "needs_background": "light"
     },
     "output_type": "display_data"
    }
   ],
   "source": [
    "plt.figure(figsize=(16, 10))\n",
    "plt.title('Micro F1')\n",
    "epochs = np.arange(1, len(result['micro_f1']['valid']) + 1)\n",
    "plt.plot(epochs, result['micro_f1']['train'], label='Train')\n",
    "plt.plot(epochs, result['micro_f1']['valid'], label='Validation')\n",
    "plt.legend()\n",
    "plt.grid()\n",
    "plt.xlabel('Epoch')\n",
    "plt.ylabel('Metric Value');"
   ]
  },
  {
   "cell_type": "code",
   "execution_count": 71,
   "metadata": {},
   "outputs": [],
   "source": [
    "id_to_tag = {value: key for key, value in tag_to_id.items()}"
   ]
  },
  {
   "cell_type": "code",
   "execution_count": 72,
   "metadata": {},
   "outputs": [],
   "source": [
    "train_predicted_tags = list(map(lambda x: id_to_tag[x], result['predictions']['train']))\n",
    "train_target_tags = list(map(lambda x: id_to_tag[x], result['tags']['train']))\n",
    "\n",
    "valid_predicted_tags = list(map(lambda x: id_to_tag[x], result['predictions']['valid']))\n",
    "valid_target_tags = list(map(lambda x: id_to_tag[x], result['tags']['valid']))\n",
    "\n",
    "test_predicted_tags = list(map(lambda x: id_to_tag[x], result['predictions']['test']))\n",
    "test_target_tags = list(map(lambda x: id_to_tag[x], result['tags']['test']))"
   ]
  },
  {
   "cell_type": "code",
   "execution_count": 75,
   "metadata": {},
   "outputs": [
    {
     "name": "stdout",
     "output_type": "stream",
     "text": [
      "Train Classificarion Report\n",
      "              precision    recall  f1-score   support\n",
      "\n",
      "       B-LOC       0.00      0.00      0.00        11\n",
      "      B-MISC       0.00      0.00      0.00        35\n",
      "       B-ORG       1.00      0.17      0.29        24\n",
      "       I-LOC       0.90      0.89      0.90      8286\n",
      "      I-MISC       0.92      0.82      0.87      4558\n",
      "       I-ORG       0.90      0.84      0.87     10001\n",
      "       I-PER       0.93      0.94      0.94     11124\n",
      "           O       0.00      0.00      0.00         0\n",
      "\n",
      "    accuracy                           0.88     34039\n",
      "   macro avg       0.58      0.46      0.48     34039\n",
      "weighted avg       0.91      0.88      0.90     34039\n",
      "\n"
     ]
    },
    {
     "name": "stderr",
     "output_type": "stream",
     "text": [
      "/Users/nbabakov/env/lib/python3.7/site-packages/sklearn/metrics/classification.py:1437: UndefinedMetricWarning: Precision and F-score are ill-defined and being set to 0.0 in labels with no predicted samples.\n",
      "  'precision', 'predicted', average, warn_for)\n",
      "/Users/nbabakov/env/lib/python3.7/site-packages/sklearn/metrics/classification.py:1439: UndefinedMetricWarning: Recall and F-score are ill-defined and being set to 0.0 in labels with no true samples.\n",
      "  'recall', 'true', average, warn_for)\n"
     ]
    }
   ],
   "source": [
    "print('Train Classificarion Report')\n",
    "print(classification_report(train_target_tags, train_predicted_tags))"
   ]
  },
  {
   "cell_type": "code",
   "execution_count": 76,
   "metadata": {},
   "outputs": [
    {
     "name": "stdout",
     "output_type": "stream",
     "text": [
      "Valid Classificarion Report\n",
      "              precision    recall  f1-score   support\n",
      "\n",
      "       B-LOC       0.00      0.00      0.00         6\n",
      "      B-MISC       0.00      0.00      0.00         9\n",
      "       B-ORG       0.00      0.00      0.00         5\n",
      "       I-LOC       0.82      0.79      0.80      1910\n",
      "      I-MISC       0.88      0.73      0.80       909\n",
      "       I-ORG       0.75      0.81      0.78      2487\n",
      "       I-PER       0.88      0.80      0.84      2740\n",
      "           O       0.00      0.00      0.00         0\n",
      "\n",
      "    accuracy                           0.79      8066\n",
      "   macro avg       0.42      0.39      0.40      8066\n",
      "weighted avg       0.83      0.79      0.80      8066\n",
      "\n"
     ]
    }
   ],
   "source": [
    "print('Valid Classificarion Report')\n",
    "print(classification_report(valid_target_tags, valid_predicted_tags))"
   ]
  },
  {
   "cell_type": "code",
   "execution_count": 77,
   "metadata": {},
   "outputs": [
    {
     "name": "stdout",
     "output_type": "stream",
     "text": [
      "Test Classificarion Report\n",
      "              precision    recall  f1-score   support\n",
      "\n",
      "      B-MISC       0.00      0.00      0.00         4\n",
      "       I-LOC       0.88      0.82      0.85      2094\n",
      "      I-MISC       0.95      0.75      0.84      1262\n",
      "       I-ORG       0.75      0.84      0.79      2092\n",
      "       I-PER       0.91      0.85      0.88      3085\n",
      "           O       0.00      0.00      0.00         0\n",
      "\n",
      "    accuracy                           0.82      8537\n",
      "   macro avg       0.58      0.54      0.56      8537\n",
      "weighted avg       0.87      0.82      0.84      8537\n",
      "\n"
     ]
    }
   ],
   "source": [
    "print('Test Classificarion Report')\n",
    "print(classification_report(test_target_tags, test_predicted_tags))"
   ]
  },
  {
   "cell_type": "code",
   "execution_count": null,
   "metadata": {},
   "outputs": [],
   "source": []
  },
  {
   "cell_type": "code",
   "execution_count": 89,
   "metadata": {},
   "outputs": [
    {
     "data": {
      "text/plain": [
       "<matplotlib.axes._subplots.AxesSubplot at 0x12aca7c50>"
      ]
     },
     "execution_count": 89,
     "metadata": {},
     "output_type": "execute_result"
    },
    {
     "data": {
      "image/png": "[encoded data removed]",
      "text/plain": [
       "<Figure size 864x864 with 1 Axes>"
      ]
     },
     "metadata": {
      "needs_background": "light"
     },
     "output_type": "display_data"
    }
   ],
   "source": [
    "plt.figure(figsize=(12, 12))\n",
    "plt.title('Test Confusion Matrix')\n",
    "train_cm = confusion_matrix(test_target_tags, test_predicted_tags)\n",
    "sns.heatmap(train_cm, annot=True, linewidths=.5, cmap='YlGnBu', cbar=False)"
   ]
  },
  {
   "cell_type": "code",
   "execution_count": null,
   "metadata": {},
   "outputs": [],
   "source": []
  }
 ],
 "metadata": {
  "kernelspec": {
   "display_name": "Python 3",
   "language": "python",
   "name": "python3"
  },
  "language_info": {
   "codemirror_mode": {
    "name": "ipython",
    "version": 3
   },
   "file_extension": ".py",
   "mimetype": "text/x-python",
   "name": "python",
   "nbconvert_exporter": "python",
   "pygments_lexer": "ipython3",
   "version": "3.7.3"
  }
 },
 "nbformat": 4,
 "nbformat_minor": 2
}
